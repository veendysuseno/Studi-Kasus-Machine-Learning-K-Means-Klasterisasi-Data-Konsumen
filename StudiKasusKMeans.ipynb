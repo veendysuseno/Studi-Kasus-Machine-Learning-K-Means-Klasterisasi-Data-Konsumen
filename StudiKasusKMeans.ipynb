{
 "cells": [
  {
   "cell_type": "markdown",
   "id": "137f1926",
   "metadata": {},
   "source": [
    "# Studi Kasus Machine Learning dengan Pendekatan Unsupervised dengan Metode Konsep Algoritma K-Means \n",
    "\n",
    "### Clustering terhadap data-data konsumen ke dalam beberapa kelompok, dimana masing-masing kelompok memiliki kemiripan maksimum dengan tujuan dari penelitian ini adalah agar peruhaan dapat memetakan jenis produk yang sesuai dengan karakteristik konsumen."
   ]
  },
  {
   "cell_type": "markdown",
   "id": "9eb82119",
   "metadata": {},
   "source": [
    "# 1. Memanggil Library"
   ]
  },
  {
   "cell_type": "code",
   "execution_count": 5,
   "id": "b0f0af53",
   "metadata": {},
   "outputs": [],
   "source": [
    "# Import Library yang akan digunakan\n",
    "%matplotlib inline\n",
    "import matplotlib.pyplot as plt\n",
    "import numpy as np\n",
    "import pandas as pd\n",
    "from sklearn.cluster import KMeans"
   ]
  },
  {
   "cell_type": "markdown",
   "id": "b3607dc1",
   "metadata": {},
   "source": [
    "# 2. Memanggil dataset.\n",
    "##    Dataset disimpan dalam bentuk format csv dalam folder direktori dataset dengan nama file konsumen.csv. Berikut adalah kode program untuk memanggi dataset konsumen.csv tersebut."
   ]
  },
  {
   "cell_type": "code",
   "execution_count": 9,
   "id": "3fe31070",
   "metadata": {},
   "outputs": [
    {
     "data": {
      "text/plain": [
       "Index(['No', 'Gaji', 'Pengeluaran'], dtype='object')"
      ]
     },
     "execution_count": 9,
     "metadata": {},
     "output_type": "execute_result"
    }
   ],
   "source": [
    "# Menyiapkan data dan memanggil dataset\n",
    "dataset = pd.read_csv('D:/PythonCode/bab10_kmeans/dataset/konsumen.csv')\n",
    "dataset.keys()"
   ]
  },
  {
   "cell_type": "markdown",
   "id": "eefc8a71",
   "metadata": {},
   "source": [
    "## -. Berikut adalah perintah untuk menampilkan 5 baris data pertama dari dataset tersebut."
   ]
  },
  {
   "cell_type": "code",
   "execution_count": 25,
   "id": "cab72d2c",
   "metadata": {},
   "outputs": [
    {
     "data": {
      "text/html": [
       "<div>\n",
       "<style scoped>\n",
       "    .dataframe tbody tr th:only-of-type {\n",
       "        vertical-align: middle;\n",
       "    }\n",
       "\n",
       "    .dataframe tbody tr th {\n",
       "        vertical-align: top;\n",
       "    }\n",
       "\n",
       "    .dataframe thead th {\n",
       "        text-align: right;\n",
       "    }\n",
       "</style>\n",
       "<table border=\"1\" class=\"dataframe\">\n",
       "  <thead>\n",
       "    <tr style=\"text-align: right;\">\n",
       "      <th></th>\n",
       "      <th>No</th>\n",
       "      <th>Gaji</th>\n",
       "      <th>Pengeluaran</th>\n",
       "    </tr>\n",
       "  </thead>\n",
       "  <tbody>\n",
       "    <tr>\n",
       "      <th>0</th>\n",
       "      <td>1</td>\n",
       "      <td>2500</td>\n",
       "      <td>1750</td>\n",
       "    </tr>\n",
       "    <tr>\n",
       "      <th>1</th>\n",
       "      <td>2</td>\n",
       "      <td>3800</td>\n",
       "      <td>4200</td>\n",
       "    </tr>\n",
       "    <tr>\n",
       "      <th>2</th>\n",
       "      <td>3</td>\n",
       "      <td>3900</td>\n",
       "      <td>3800</td>\n",
       "    </tr>\n",
       "    <tr>\n",
       "      <th>3</th>\n",
       "      <td>4</td>\n",
       "      <td>4350</td>\n",
       "      <td>5500</td>\n",
       "    </tr>\n",
       "    <tr>\n",
       "      <th>4</th>\n",
       "      <td>5</td>\n",
       "      <td>4400</td>\n",
       "      <td>3200</td>\n",
       "    </tr>\n",
       "  </tbody>\n",
       "</table>\n",
       "</div>"
      ],
      "text/plain": [
       "   No  Gaji  Pengeluaran\n",
       "0   1  2500         1750\n",
       "1   2  3800         4200\n",
       "2   3  3900         3800\n",
       "3   4  4350         5500\n",
       "4   5  4400         3200"
      ]
     },
     "execution_count": 25,
     "metadata": {},
     "output_type": "execute_result"
    }
   ],
   "source": [
    "dataku = pd.DataFrame(dataset)\n",
    "dataku.head()"
   ]
  },
  {
   "cell_type": "markdown",
   "id": "ff1adf33",
   "metadata": {},
   "source": [
    "# 3. Konversi Dataset ke Data Array"
   ]
  },
  {
   "cell_type": "code",
   "execution_count": 12,
   "id": "9bd9df69",
   "metadata": {},
   "outputs": [
    {
     "name": "stdout",
     "output_type": "stream",
     "text": [
      "[[    1  2500  1750]\n",
      " [    2  3800  4200]\n",
      " [    3  3900  3800]\n",
      " [    4  4350  5500]\n",
      " [    5  4400  3200]\n",
      " [    6  5500  5450]\n",
      " [    7  5600  5950]\n",
      " [    8  5750  4100]\n",
      " [    9  6850  6050]\n",
      " [   10  6900  8500]\n",
      " [   11  7250  9500]\n",
      " [   12  7350  6050]\n",
      " [   13  7500  8500]\n",
      " [   14  7800  9500]\n",
      " [   15  8200  8300]\n",
      " [   16  8500  6500]\n",
      " [   17  8550  8400]\n",
      " [   18  8750  6000]\n",
      " [   19  9100 10500]\n",
      " [   20  9100  8500]]\n"
     ]
    }
   ],
   "source": [
    "# Konversi ke data array\n",
    "x = np.asarray(dataset)\n",
    "print(x)"
   ]
  },
  {
   "cell_type": "markdown",
   "id": "b21ead47",
   "metadata": {},
   "source": [
    "# 4. Menampilkan Data Array ke dalam Scatter Plot"
   ]
  },
  {
   "cell_type": "code",
   "execution_count": 15,
   "id": "518d6b13",
   "metadata": {},
   "outputs": [
    {
     "data": {
      "image/png": "[encoded data removed]",
      "text/plain": [
       "<Figure size 432x288 with 1 Axes>"
      ]
     },
     "metadata": {
      "needs_background": "light"
     },
     "output_type": "display_data"
    }
   ],
   "source": [
    "# Menampilkan data dalam bentuk scatter plot\n",
    "plt.scatter(x[:,0],x[:,1], label='True Position')\n",
    "plt.xlabel(\"Gaji\")\n",
    "plt.ylabel(\"Pengeluaran\")\n",
    "plt.title(\"Grafik Konsumen\")\n",
    "plt.show()"
   ]
  },
  {
   "cell_type": "markdown",
   "id": "772c4111",
   "metadata": {},
   "source": [
    "# 5. Mengaktifkan K-Means dari Sklearn\n",
    "##     Langkah selanjutnya perlu dilakukan konversi dataset ke dalam tipe data array, dan kemudian melakukan fitting data dengan kode program sebagai berikut."
   ]
  },
  {
   "cell_type": "code",
   "execution_count": 16,
   "id": "92391c8e",
   "metadata": {},
   "outputs": [
    {
     "data": {
      "text/plain": [
       "KMeans(n_clusters=2)"
      ]
     },
     "execution_count": 16,
     "metadata": {},
     "output_type": "execute_result"
    }
   ],
   "source": [
    "# Mengaktifkan K-Means dengan jumlah\n",
    "kmeans = KMeans(n_clusters=2)\n",
    "kmeans.fit(x)\n"
   ]
  },
  {
   "cell_type": "markdown",
   "id": "f4914b54",
   "metadata": {},
   "source": [
    "# 6. Menampilkan nilai Centroid (nilai titik pusat klaster yang di generate oleh algoritma)"
   ]
  },
  {
   "cell_type": "code",
   "execution_count": 18,
   "id": "a1b9a95e",
   "metadata": {},
   "outputs": [
    {
     "name": "stdout",
     "output_type": "stream",
     "text": [
      "[[1.45000e+01 7.98750e+03 8.02500e+03]\n",
      " [4.50000e+00 4.47500e+03 4.24375e+03]]\n"
     ]
    }
   ],
   "source": [
    "# Menampilkan nilai centroid\n",
    "# yang di generate oleh algorithm\n",
    "print(kmeans.cluster_centers_)"
   ]
  },
  {
   "cell_type": "markdown",
   "id": "4be649a6",
   "metadata": {},
   "source": [
    "## Kita juga bisa menampilkan output dari algoritma, yaitu: label dari data point hasil clustering dengan perintah seperti di bawah ini."
   ]
  },
  {
   "cell_type": "code",
   "execution_count": 21,
   "id": "3c80d4b1",
   "metadata": {},
   "outputs": [
    {
     "name": "stdout",
     "output_type": "stream",
     "text": [
      "[1 1 1 1 1 1 1 1 0 0 0 0 0 0 0 0 0 0 0 0]\n"
     ]
    }
   ],
   "source": [
    "# Menampilkan label data point\n",
    "print(kmeans.labels_)"
   ]
  },
  {
   "cell_type": "markdown",
   "id": "95287c65",
   "metadata": {},
   "source": [
    "# 7. Visualisasi Hasil\n",
    "##     Perintah dibawah ini digunakan untuk menampilkan scatter plot dari data-data  setelah dilakukan klasterisasi oleh algoritma."
   ]
  },
  {
   "cell_type": "code",
   "execution_count": 23,
   "id": "1a923e7b",
   "metadata": {},
   "outputs": [
    {
     "data": {
      "image/png": "[encoded data removed]",
      "text/plain": [
       "<Figure size 432x288 with 1 Axes>"
      ]
     },
     "metadata": {
      "needs_background": "light"
     },
     "output_type": "display_data"
    }
   ],
   "source": [
    "# Plot data point\n",
    "# Memvisualisasikan bagaimana telah di klasterisasi.\n",
    "\n",
    "plt.scatter(x[:, 0],x[:, 1], c = kmeans.labels_, cmap = 'rainbow')\n",
    "plt.xlabel(\"Gaji\")\n",
    "plt.ylabel(\"Pengeluaran\")\n",
    "plt.title(\"Gradik Konsumen\")\n",
    "plt.show()\n"
   ]
  },
  {
   "cell_type": "code",
   "execution_count": 24,
   "id": "8f497995",
   "metadata": {},
   "outputs": [
    {
     "data": {
      "image/png": "[encoded data removed]",
      "text/plain": [
       "<Figure size 432x288 with 1 Axes>"
      ]
     },
     "metadata": {
      "needs_background": "light"
     },
     "output_type": "display_data"
    }
   ],
   "source": [
    "# Plot data point\n",
    "# Memvisualisasikan bagaimana telah di klasterisasi.\n",
    "# Menampilkan centroids dengan warna hitam.\n",
    "\n",
    "plt.scatter(x[:, 0],x[:, 1], \n",
    "            c = kmeans.labels_, \n",
    "            cmap = 'rainbow'\n",
    "           )\n",
    "plt.scatter(kmeans.cluster_centers_[:, 0], \n",
    "            kmeans.cluster_centers_[:,1], \n",
    "            color = 'black'\n",
    "           )\n",
    "plt.xlabel(\"Gaji\")\n",
    "plt.ylabel(\"Pengeluaran\")\n",
    "plt.title(\"Gradik Konsumen\")\n",
    "plt.show()\n"
   ]
  }
 ],
 "metadata": {
  "kernelspec": {
   "display_name": "Python 3",
   "language": "python",
   "name": "python3"
  },
  "language_info": {
   "codemirror_mode": {
    "name": "ipython",
    "version": 3
   },
   "file_extension": ".py",
   "mimetype": "text/x-python",
   "name": "python",
   "nbconvert_exporter": "python",
   "pygments_lexer": "ipython3",
   "version": "3.8.8"
  }
 },
 "nbformat": 4,
 "nbformat_minor": 5
}
